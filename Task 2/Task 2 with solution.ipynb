{
 "cells": [
  {
   "cell_type": "code",
   "execution_count": 1,
   "id": "7c5e2d05",
   "metadata": {},
   "outputs": [],
   "source": [
    "from typing import List, Union, Dict, Set, Tuple, Sequence\n",
    "from numpy.typing import NDArray\n",
    "import sys"
   ]
  },
  {
   "cell_type": "markdown",
   "id": "91edf14c",
   "metadata": {},
   "source": [
    "### Task 2.1: WordNet word similarity\n",
    "\n",
    "In this task, we want to implement the similarity between two words in WordNet (https://www.nltk.org/api/nltk.corpus.reader.wordnet.html) using the NLTK package. The word similarity between two words is given by\n",
    "$$\n",
    "\\frac{1}{1+d}\n",
    "$$\n",
    "where $d$ is the distance of the shortest path in the hypernym/hyponym hierarchy tree in WordNet between any pair of synsets that are associated with the two input words.\n",
    "\n",
    "From NLTK you should __only__ use the `synsets`, `hypernyms` and `instance_hpyernyms` functions.\n",
    "\n",
    "The following subtasks build on each other, i.e. the functions of the preceding subtasks can be used for the current subtask.\n",
    "\n",
    "_Note: the distance of a synset to itself is 0, the distance to a direct hypernym is 1, ..._"
   ]
  },
  {
   "cell_type": "code",
   "execution_count": 20,
   "id": "7f2b0d09",
   "metadata": {},
   "outputs": [],
   "source": [
    "import nltk\n",
    "from nltk.corpus import wordnet as wn\n",
    "from nltk.corpus.reader.wordnet import Synset\n",
    "from nltk.stem import PorterStemmer \n",
    "from nltk.tokenize import word_tokenize"
   ]
  },
  {
   "cell_type": "markdown",
   "id": "f3a6c82f",
   "metadata": {},
   "source": [
    "__a)__ Write a function ``shortest_paths_to`` that takes a synset as input and computes the shortest paths to all nodes on the way to the root in the hypernym hierarchy tree of WordNet. The function should return a dictionary that matches all visited hypernyms on the way(s) to the root to the distance of the shortest path from the input synset. Consider that a synset might have multiple paths to the root and that some nodes might appear in multiple paths. However, we only want to store the shortest distances. Moreover, keep in mind that the input synset might be an instance. \n",
    "\n",
    "Use the signature in the cell below.\n",
    "\n",
    "__Example:__ _Calling_ ``shortest_paths_to(s)`` _on the synset_ ``s = wn.synset('calculator.n.01')`` _should yield the following result:_\n",
    "\n",
    "``\n",
    "{Synset('calculator.n.01'): 0,\n",
    " Synset('expert.n.01'): 1,\n",
    " Synset('person.n.01'): 2,\n",
    " Synset('causal_agent.n.01'): 3,\n",
    " Synset('organism.n.01'): 3,\n",
    " Synset('physical_entity.n.01'): 4,\n",
    " Synset('living_thing.n.01'): 4,\n",
    " Synset('entity.n.01'): 5,\n",
    " Synset('whole.n.02'): 5,\n",
    " Synset('object.n.01'): 6}\n",
    "``"
   ]
  },
  {
   "cell_type": "code",
   "execution_count": 4,
   "id": "c9d66e04",
   "metadata": {},
   "outputs": [],
   "source": [
    "def path_travel(syn,count,word_dict):\n",
    "    \n",
    "    word_dict[str(syn)] = count if word_dict.get(str(syn)) == None else min(word_dict[str(syn)],count)   # isn't the min function useless? because if an existing count exists, it will alwazs be lesser than the curent one. As count is only incremented, never decremented \n",
    "    nodes = syn.hypernyms()\n",
    "    if len(nodes) == 0:\n",
    "        return word_dict\n",
    "    else:\n",
    "        count+=1\n",
    "        for i in nodes:\n",
    "            word_dict = path_travel(i,count,word_dict)\n",
    "        return word_dict\n",
    "            \n",
    "\n",
    "\n",
    "def shortest_paths_to(start_syn: Synset) -> Dict[Synset, int]:\n",
    "    \"\"\"Compute the shortest distance to all nodes on paths to the root.\n",
    "    :param start_syn: synset to which we want to compute the shortest distances\n",
    "    :return: dict that matches all visited hypernyms to their distance to the input synset\n",
    "    \"\"\"\n",
    "    shortest_path = {}\n",
    "    shortest_path = path_travel(start_syn,0,shortest_path) \n",
    "    \n",
    "    return shortest_path\n"
   ]
  },
  {
   "cell_type": "markdown",
   "id": "3fda6f14",
   "metadata": {},
   "source": [
    "__b)__ Write a function ``merge_paths`` that gets two dictionaries that map synsets to shortest distances (you can assume they were created by the function from __a)__) and merges them. The function shold return a dictionary that includes all synsets and distances that appear in any of the input dictionaries. If a synset appears in both input dictionaries, we want to keep the shorter distance. Leave the input dictionaries unaltered.\n",
    "\n",
    "Use the signature in the cell below."
   ]
  },
  {
   "cell_type": "code",
   "execution_count": 5,
   "id": "41ffe524",
   "metadata": {},
   "outputs": [],
   "source": [
    "def merge_paths(p1: Dict[Synset, int], p2: Dict[Synset, int]) -> Dict[Synset, int]:\n",
    "    \"\"\"Merge two paths keeping the shorter distance for synsets that appear more than once.\n",
    "    :param p1: first dict that maps synsets to their shortest distances\n",
    "    :param p2: second dict that maps synsets to their shortest distances\n",
    "    :return: merged dict\n",
    "    \"\"\"\n",
    "    mergedDict = {}\n",
    "    for key in p1:\n",
    "        if p2.get(key):\n",
    "            mergedDict[key]=min(p1.get(key), p2.get(key))\n",
    "        else:\n",
    "            mergedDict[key] = p1[key]\n",
    "\n",
    "    for key in p2:\n",
    "        if not (mergedDict.get(key)):\n",
    "            mergedDict[key]=p2.get(key)\n",
    "    \n",
    "    return mergedDict\n"
   ]
  },
  {
   "cell_type": "markdown",
   "id": "e1b0a7fc",
   "metadata": {},
   "source": [
    "Test of the functions untill now"
   ]
  },
  {
   "cell_type": "code",
   "execution_count": 28,
   "id": "a71a767a",
   "metadata": {},
   "outputs": [
    {
     "name": "stdout",
     "output_type": "stream",
     "text": [
      "{\"Synset('car.n.01')\": 0, \"Synset('motor_vehicle.n.01')\": 1, \"Synset('self-propelled_vehicle.n.01')\": 2, \"Synset('wheeled_vehicle.n.01')\": 3, \"Synset('container.n.01')\": 4, \"Synset('instrumentality.n.03')\": 5, \"Synset('artifact.n.01')\": 6, \"Synset('whole.n.02')\": 7, \"Synset('object.n.01')\": 8, \"Synset('physical_entity.n.01')\": 9, \"Synset('entity.n.01')\": 10, \"Synset('vehicle.n.01')\": 4, \"Synset('conveyance.n.03')\": 5}\n"
     ]
    }
   ],
   "source": [
    "test1 = shortest_paths_to(wn.synsets(\"car\")[0])\n",
    "print(test1)"
   ]
  },
  {
   "cell_type": "code",
   "execution_count": 29,
   "id": "23c41d6c",
   "metadata": {},
   "outputs": [
    {
     "name": "stdout",
     "output_type": "stream",
     "text": [
      "{\"Synset('car.n.02')\": 0, \"Synset('wheeled_vehicle.n.01')\": 1, \"Synset('container.n.01')\": 2, \"Synset('instrumentality.n.03')\": 3, \"Synset('artifact.n.01')\": 4, \"Synset('whole.n.02')\": 5, \"Synset('object.n.01')\": 6, \"Synset('physical_entity.n.01')\": 7, \"Synset('entity.n.01')\": 8, \"Synset('vehicle.n.01')\": 2, \"Synset('conveyance.n.03')\": 3}\n"
     ]
    }
   ],
   "source": [
    "test2=shortest_paths_to(wn.synsets(\"car\")[1])\n",
    "print(test2)"
   ]
  },
  {
   "cell_type": "code",
   "execution_count": 30,
   "id": "8b1e3de1",
   "metadata": {},
   "outputs": [
    {
     "data": {
      "text/plain": [
       "{\"Synset('car.n.01')\": 0,\n",
       " \"Synset('motor_vehicle.n.01')\": 1,\n",
       " \"Synset('self-propelled_vehicle.n.01')\": 2,\n",
       " \"Synset('wheeled_vehicle.n.01')\": 1,\n",
       " \"Synset('container.n.01')\": 2,\n",
       " \"Synset('instrumentality.n.03')\": 3,\n",
       " \"Synset('artifact.n.01')\": 4,\n",
       " \"Synset('whole.n.02')\": 5,\n",
       " \"Synset('object.n.01')\": 6,\n",
       " \"Synset('physical_entity.n.01')\": 7,\n",
       " \"Synset('entity.n.01')\": 8,\n",
       " \"Synset('vehicle.n.01')\": 2,\n",
       " \"Synset('conveyance.n.03')\": 3,\n",
       " \"Synset('car.n.02')\": 0}"
      ]
     },
     "execution_count": 30,
     "metadata": {},
     "output_type": "execute_result"
    }
   ],
   "source": [
    "merge_paths(test1, test2)"
   ]
  },
  {
   "cell_type": "markdown",
   "id": "ade7ce46",
   "metadata": {},
   "source": [
    "__c)__ Write a function ``all_hypernym_paths`` that gets a word as input and returns a dictionary that maps all hypernyms that are reachable from the set of synsets associated with the word to the shortest distance leading there.\n",
    "\n",
    "Use the signature in the cell below."
   ]
  },
  {
   "cell_type": "code",
   "execution_count": 6,
   "id": "13112dc7",
   "metadata": {},
   "outputs": [],
   "source": [
    "def all_hypernym_paths(word: str) -> Dict[Synset, int]:\n",
    "    \"\"\"Get all hypernyms of all synsets associated with the input word and compute the shortest distance leading there.\n",
    "    :param word: input word\n",
    "    :return: dict that matches all reachable hypernyms to their shortest distance\n",
    "    \"\"\"\n",
    "    \n",
    "    all_associated_synsets = wn.synsets(word)\n",
    "    paths= {}\n",
    "    for syn in all_associated_synsets:\n",
    "        dict_paths = shortest_paths_to(syn)\n",
    "        paths = merge_paths(paths, dict_paths)\n",
    "    \n",
    "\n",
    "    return paths \n"
   ]
  },
  {
   "cell_type": "markdown",
   "id": "49270f8b",
   "metadata": {},
   "source": [
    "__d)__  Write a function ``get_dist`` that returns the word similarity between two input words, according to the formula given in the task description at the beginning.  \n",
    "\n",
    "Use the signature in the cell below."
   ]
  },
  {
   "cell_type": "code",
   "execution_count": 8,
   "id": "b0a4e8dc",
   "metadata": {},
   "outputs": [
    {
     "data": {
      "text/plain": [
       "0.3333333333333333"
      ]
     },
     "execution_count": 8,
     "metadata": {},
     "output_type": "execute_result"
    }
   ],
   "source": [
    "def get_dist(w1: str, w2: str) -> float:\n",
    "    \"\"\"Compute the similarity between two input words in the WordNet hierarchy tree.\n",
    "    :param w1: first input word\n",
    "    :param w2: second input word\n",
    "    :return: word similarity\n",
    "    \"\"\"\n",
    "    all_hypernym_paths_w1 = all_hypernym_paths(w1)\n",
    "    all_hypernym_paths_w2 = all_hypernym_paths(w2)\n",
    "    \n",
    "    keys_intersection = set(all_hypernym_paths_w1.keys()).intersection(all_hypernym_paths_w2.keys()) #common hypernyms \n",
    "    \n",
    "    if not keys_intersection:\n",
    "        return 0.0\n",
    "    \n",
    "    min_distance = sys.maxsize\n",
    "    for hypernym in keys_intersection:\n",
    "        distance = all_hypernym_paths_w1[hypernym] + all_hypernym_paths_w2[hypernym]\n",
    "        if distance < min_distance:\n",
    "            min_distance = distance\n",
    "        \n",
    "    \n",
    "    return 1 / (1 + min_distance)\n",
    "\n",
    "get_dist(\"truck\", \"car\")\n"
   ]
  },
  {
   "cell_type": "markdown",
   "id": "3426121d",
   "metadata": {},
   "source": [
    "### Task 2.2: Lesk algorithm\n",
    "\n",
    "In this task we want to implement a simple version of the Lesk algorithm, a thesaurus-based method for word sense disambiguation. Given a target word $w$ and a context, the algorithm finds the word sense that is most fitting in the context. To achieve this, the Lesk algorithm computes the number of overlapping words between the context sentence and the definitions of the WordNet synsets, associated with $w$.\n",
    "\n",
    "Write a function ``lesk`` that takes a word and a context string (e.g. a sentence) and returns the most fitting sense from the synsets associated with the word and the corresponding context overlap. The most fitting sense is the one whose definition shares the most words with the context string. Before matching tokens, make sure to \n",
    "\n",
    "* only include valid tokens (cf. HA 1, task 2a)\n",
    "* remove stopwords\n",
    "* only match stems of words (e.g. consider the ``PorterStemmer`` from ``nltk``)\n",
    "\n",
    "When computing the context overlap, count each stemmed word only once, even if they occur multiple times. If there is no fitting synset, i.e. the context overlap between the context and the synset definitions is 0, return None instead.\n",
    "\n",
    "Use the signature in the cell below."
   ]
  },
  {
   "cell_type": "code",
   "execution_count": 14,
   "id": "055d9147",
   "metadata": {},
   "outputs": [],
   "source": [
    "# HA 1, task 2a)\n",
    "from nltk.corpus.reader.util import StreamBackedCorpusView\n",
    "from nltk.corpus import stopwords\n",
    "import re\n",
    "import string\n",
    "\n",
    "def get_valid_tokens(tokens: Union[List[str], StreamBackedCorpusView], remove_stopwords: bool=False) -> List[str]:\n",
    "    \"\"\"\n",
    "    :param tokens: list of tokens that should be cleaned\n",
    "    :param remove_stopwords: bool indicating if stopwords should be removed\n",
    "                             False by default\n",
    "    :return: list of valid tokens\n",
    "    \"\"\"\n",
    "    valid = []\n",
    "    punct = string.punctuation\n",
    "    stop = stopwords.words('english')\n",
    "    digit = re.compile(r\"\\d+\")\n",
    "\n",
    "    for t in tokens:\n",
    "        if t in punct:\n",
    "            continue\n",
    "        if remove_stopwords and t.lower() in stop:\n",
    "            continue\n",
    "        if re.fullmatch(digit, t):\n",
    "            continue\n",
    "        valid.append(t.lower())\n",
    "    return valid"
   ]
  },
  {
   "cell_type": "code",
   "execution_count": 21,
   "id": "054adffc",
   "metadata": {},
   "outputs": [],
   "source": [
    "def lesk(word: str, context: str) -> (Synset, int):\n",
    "    '''\n",
    "    Compute the most probable sense of a word in the given context.\n",
    "    :param word: ambiguous word\n",
    "    :param context: context in which the word appears\n",
    "    :returns:\n",
    "        - synset with the most likely word sense\n",
    "        - context overlap of synset and context\n",
    "    '''\n",
    "    # your code here\n",
    "\n",
    "    tokens=get_valid_tokens(word_tokenize(context), True)\n",
    "    porter=PorterStemmer()\n",
    "    stems_context=set() #we need to count each word only once (uniqueness)\n",
    "    for token in tokens:\n",
    "      stems_context.add(porter.stem(token))\n",
    "\n",
    "    synsets=wn.synsets(word) #get the synsets for the given word\n",
    "\n",
    "    if not synsets: #synset not found\n",
    "      return None,0\n",
    "\n",
    "    elif synsets: #synset found\n",
    "      overlap_max=0\n",
    "      bestSS=None\n",
    "\n",
    "      for synset in synsets:\n",
    "\n",
    "        #Take definiton for the target word\n",
    "        definition = synset.definition() \n",
    "        definition_tokens = nltk.word_tokenize(definition)\n",
    "        definition_tokens = get_valid_tokens(definition_tokens,True)\n",
    "        stems_definition = set(porter.stem(token) for token in definition_tokens) \n",
    "\n",
    "        # Take example for each synset to make the algorithm work better\n",
    "        example = ' '.join(synset.examples())\n",
    "        example_tokens = word_tokenize(example)\n",
    "        example_tokens = get_valid_tokens(example_tokens,True)\n",
    "        stems_example = set(porter.stem(token) for token in example_tokens)\n",
    "        \n",
    "        # Join stems from context and definition+examples\n",
    "        stems_all = stems_definition.union(stems_example)\n",
    "        \n",
    "        overlap = len(stems_context & stems_all) #calculate overlap\n",
    "\n",
    "        if overlap > overlap_max:\n",
    "            overlap_max = overlap\n",
    "            bestSS = synset\n",
    "        \n",
    "    if overlap_max==0:\n",
    "      return None,0\n",
    "\n",
    "    return bestSS, overlap_max"
   ]
  },
  {
   "cell_type": "code",
   "execution_count": 22,
   "id": "771b6ba1",
   "metadata": {},
   "outputs": [
    {
     "data": {
      "text/plain": [
       "'sloping land (especially the slope beside a body of water)'"
      ]
     },
     "execution_count": 22,
     "metadata": {},
     "output_type": "execute_result"
    }
   ],
   "source": [
    "lesk(\"bank\", \"i collect sea shells from the bank\")[0].definition()"
   ]
  },
  {
   "cell_type": "code",
   "execution_count": 23,
   "id": "20429326",
   "metadata": {},
   "outputs": [
    {
     "data": {
      "text/plain": [
       "'a financial institution that accepts deposits and channels the money into lending activities'"
      ]
     },
     "execution_count": 23,
     "metadata": {},
     "output_type": "execute_result"
    }
   ],
   "source": [
    "lesk(\"bank\", \"i collect money from the bank\")[0].definition()"
   ]
  },
  {
   "cell_type": "markdown",
   "id": "1f37f1ef",
   "metadata": {},
   "source": [
    "### Task 2.3: Minimum cost string alignment\n",
    "\n",
    "In this tak we want to compute an alignment between two strings, that has minimum edit distance. \n",
    "\n",
    "Implement a function that takes two strings and their edit distance matrix and returns a minimum cost alignment. You can assume that the edit distance matrix is provided by the function that you implemented in exercise 3, task 2, with a substitution cost of 2. \n",
    "\n",
    "A minimum cost alignment consists of two strings that, printed below each other comprise the alignment, where insertions and deletions are represented by a ``*``. Use the function signature in the cell below.\n",
    "\n",
    "__Example:__ _Given the input strings_ `\"INTENTION\"` _and_ `\"EXECUTION\"` _and the corresponding edit distance matrix:_\n",
    "\n",
    "```\n",
    "[[ 0  1  2  3  4  5  6  7  8  9]\n",
    " [ 1  2  3  4  5  6  7  6  7  8]\n",
    " [ 2  3  4  5  6  7  8  7  8  7]\n",
    " [ 3  4  5  6  7  8  7  8  9  8]\n",
    " [ 4  3  4  5  6  7  8  9 10  9]\n",
    " [ 5  4  5  6  7  8  9 10 11 10]\n",
    " [ 6  5  6  7  8  9  8  9 10 11]\n",
    " [ 7  6  7  8  9 10  9  8  9 10]\n",
    " [ 8  7  8  9 10 11 10  9  8  9]\n",
    " [ 9  8  9 10 11 12 11 10  9  8]]\n",
    "```\n",
    "  \n",
    "_your function should return the two strings_ ``INTE***NTION`` _and_ ``***EXECUTION`` _that represent the alignment, when printed below each other:_\n",
    " \n",
    " ``INTE***NTION``    \n",
    " ``***EXECUTION`` \n",
    " \n",
    " __Remark:__ _The alignment in the example above is not the only solution. In this task all alignments with minimum edit distance are accepted._\n"
   ]
  },
  {
   "cell_type": "code",
   "execution_count": 24,
   "id": "5bd021e9",
   "metadata": {},
   "outputs": [
    {
     "name": "stdout",
     "output_type": "stream",
     "text": [
      "INTE*NTION\n",
      "*EXECUTION\n"
     ]
    }
   ],
   "source": [
    "import numpy as np\n",
    "\n",
    "def compute_edit_distance_matrix(str1: str, str2: str) -> np.ndarray:\n",
    "    m, n = len(str1), len(str2)\n",
    "    D = np.zeros((m + 1, n + 1), dtype=int)\n",
    "    \n",
    "    for i in range(m + 1):\n",
    "        D[i][0] = i\n",
    "    for j in range(n + 1):\n",
    "        D[0][j] = j\n",
    "    \n",
    "    for i in range(1, m + 1):\n",
    "        for j in range(1, n + 1):\n",
    "            cost = 0 if str1[i - 1] == str2[j - 1] else 2\n",
    "            D[i][j] = min(D[i - 1][j - 1] + cost, D[i - 1][j] + 1, D[i][j - 1] + 1)\n",
    "    \n",
    "    return D\n",
    "\n",
    "def get_alignment(str1: str, str2: str, D: np.ndarray) -> tuple[str, str]:\n",
    "    i, j = len(str1), len(str2)\n",
    "    aligned_str1, aligned_str2 = [], []\n",
    "    \n",
    "    while i > 0 or j > 0:\n",
    "        # Handle the diagonal (substitution/match) case first\n",
    "        if i > 0 and j > 0 and D[i][j] == D[i - 1][j - 1] + (0 if str1[i - 1] == str2[j - 1] else 2):\n",
    "            aligned_str1.append(str1[i - 1])\n",
    "            aligned_str2.append(str2[j - 1])\n",
    "            i -= 1\n",
    "            j -= 1\n",
    "        # Handle the insertion case\n",
    "        elif j > 0 and D[i][j] == D[i][j - 1] + 1:\n",
    "            aligned_str1.append('*')\n",
    "            aligned_str2.append(str2[j - 1])\n",
    "            j -= 1\n",
    "        # Handle the deletion case\n",
    "        elif i > 0 and D[i][j] == D[i - 1][j] + 1:\n",
    "            aligned_str1.append(str1[i - 1])\n",
    "            aligned_str2.append('*')\n",
    "            i -= 1\n",
    "    \n",
    "    return ''.join(reversed(aligned_str1)), ''.join(reversed(aligned_str2))\n",
    "\n",
    "str1 = \"INTENTION\"\n",
    "str2 = \"EXECUTION\"\n",
    "D = compute_edit_distance_matrix(str1, str2)\n",
    "aligned_str1, aligned_str2 = get_alignment(str1, str2, D)\n",
    "print(aligned_str1)\n",
    "print(aligned_str2)"
   ]
  }
 ],
 "metadata": {
  "kernelspec": {
   "display_name": "Python 3 (ipykernel)",
   "language": "python",
   "name": "python3"
  },
  "language_info": {
   "codemirror_mode": {
    "name": "ipython",
    "version": 3
   },
   "file_extension": ".py",
   "mimetype": "text/x-python",
   "name": "python",
   "nbconvert_exporter": "python",
   "pygments_lexer": "ipython3",
   "version": "3.11.9"
  }
 },
 "nbformat": 4,
 "nbformat_minor": 5
}
